{
 "cells": [
  {
   "cell_type": "markdown",
   "id": "0a68a2cd",
   "metadata": {},
   "source": [
    "# Ed-Tech Business Intelligence "
   ]
  },
  {
   "cell_type": "code",
   "execution_count": 1,
   "id": "d33b00bf",
   "metadata": {},
   "outputs": [],
   "source": [
    "import numpy as np\n",
    "import pandas as pd\n",
    "import matplotlib.pyplot as plt\n",
    "import seaborn as sb\n",
    "\n",
    "import warnings\n",
    "warnings.filterwarnings(\"ignore\")\n",
    "\n",
    "df=pd.read_csv(\"C:\\\\Users\\\\Laptop-PC\\\\Desktop\\\\Business Intelligence on Ed-Tech Data\\\\Ed_Tech.csv\",encoding='unicode_escape')\n"
   ]
  },
  {
   "cell_type": "code",
   "execution_count": 3,
   "id": "c37196d7",
   "metadata": {},
   "outputs": [
    {
     "data": {
      "text/html": [
       "<div>\n",
       "<style scoped>\n",
       "    .dataframe tbody tr th:only-of-type {\n",
       "        vertical-align: middle;\n",
       "    }\n",
       "\n",
       "    .dataframe tbody tr th {\n",
       "        vertical-align: top;\n",
       "    }\n",
       "\n",
       "    .dataframe thead th {\n",
       "        text-align: right;\n",
       "    }\n",
       "</style>\n",
       "<table border=\"1\" class=\"dataframe\">\n",
       "  <thead>\n",
       "    <tr style=\"text-align: right;\">\n",
       "      <th></th>\n",
       "      <th>id</th>\n",
       "      <th>title</th>\n",
       "      <th>url</th>\n",
       "      <th>is_paid</th>\n",
       "      <th>num_subscribers</th>\n",
       "      <th>avg_rating</th>\n",
       "      <th>avg_rating_recent</th>\n",
       "      <th>rating</th>\n",
       "      <th>num_reviews</th>\n",
       "      <th>is_wishlisted</th>\n",
       "      <th>num_published_lectures</th>\n",
       "      <th>num_published_practice_tests</th>\n",
       "      <th>created</th>\n",
       "      <th>published_time</th>\n",
       "      <th>discount_price__amount</th>\n",
       "      <th>discount_price__currency</th>\n",
       "      <th>discount_price__price_string</th>\n",
       "      <th>price_detail__amount</th>\n",
       "      <th>price_detail__currency</th>\n",
       "      <th>price_detail__price_string</th>\n",
       "    </tr>\n",
       "  </thead>\n",
       "  <tbody>\n",
       "    <tr>\n",
       "      <th>0</th>\n",
       "      <td>762616</td>\n",
       "      <td>The Complete SQL Bootcamp 2020: Go from Zero t...</td>\n",
       "      <td>/course/the-complete-sql-bootcamp/</td>\n",
       "      <td>True</td>\n",
       "      <td>295509</td>\n",
       "      <td>4.66019</td>\n",
       "      <td>4.67874</td>\n",
       "      <td>4.67874</td>\n",
       "      <td>78006</td>\n",
       "      <td>False</td>\n",
       "      <td>84</td>\n",
       "      <td>0</td>\n",
       "      <td>2016-02-14T22:57:48Z</td>\n",
       "      <td>2016-04-06T05:16:11Z</td>\n",
       "      <td>455.0</td>\n",
       "      <td>INR</td>\n",
       "      <td>â¹455</td>\n",
       "      <td>8640</td>\n",
       "      <td>INR</td>\n",
       "      <td>â¹8,640</td>\n",
       "    </tr>\n",
       "    <tr>\n",
       "      <th>1</th>\n",
       "      <td>937678</td>\n",
       "      <td>Tableau 2020 A-Z: Hands-On Tableau Training fo...</td>\n",
       "      <td>/course/tableau10/</td>\n",
       "      <td>True</td>\n",
       "      <td>209070</td>\n",
       "      <td>4.58956</td>\n",
       "      <td>4.60015</td>\n",
       "      <td>4.60015</td>\n",
       "      <td>54581</td>\n",
       "      <td>False</td>\n",
       "      <td>78</td>\n",
       "      <td>0</td>\n",
       "      <td>2016-08-22T12:10:18Z</td>\n",
       "      <td>2016-08-23T16:59:49Z</td>\n",
       "      <td>455.0</td>\n",
       "      <td>INR</td>\n",
       "      <td>â¹455</td>\n",
       "      <td>8640</td>\n",
       "      <td>INR</td>\n",
       "      <td>â¹8,640</td>\n",
       "    </tr>\n",
       "  </tbody>\n",
       "</table>\n",
       "</div>"
      ],
      "text/plain": [
       "       id                                              title  \\\n",
       "0  762616  The Complete SQL Bootcamp 2020: Go from Zero t...   \n",
       "1  937678  Tableau 2020 A-Z: Hands-On Tableau Training fo...   \n",
       "\n",
       "                                  url  is_paid  num_subscribers  avg_rating  \\\n",
       "0  /course/the-complete-sql-bootcamp/     True           295509     4.66019   \n",
       "1                  /course/tableau10/     True           209070     4.58956   \n",
       "\n",
       "   avg_rating_recent   rating  num_reviews  is_wishlisted  \\\n",
       "0            4.67874  4.67874        78006          False   \n",
       "1            4.60015  4.60015        54581          False   \n",
       "\n",
       "   num_published_lectures  num_published_practice_tests               created  \\\n",
       "0                      84                             0  2016-02-14T22:57:48Z   \n",
       "1                      78                             0  2016-08-22T12:10:18Z   \n",
       "\n",
       "         published_time  discount_price__amount discount_price__currency  \\\n",
       "0  2016-04-06T05:16:11Z                   455.0                      INR   \n",
       "1  2016-08-23T16:59:49Z                   455.0                      INR   \n",
       "\n",
       "  discount_price__price_string  price_detail__amount price_detail__currency  \\\n",
       "0                       â¹455                  8640                    INR   \n",
       "1                       â¹455                  8640                    INR   \n",
       "\n",
       "  price_detail__price_string  \n",
       "0                   â¹8,640  \n",
       "1                   â¹8,640  "
      ]
     },
     "execution_count": 3,
     "metadata": {},
     "output_type": "execute_result"
    }
   ],
   "source": [
    "df.head(2)"
   ]
  },
  {
   "cell_type": "code",
   "execution_count": 4,
   "id": "da455078",
   "metadata": {},
   "outputs": [
    {
     "data": {
      "text/plain": [
       "id                                0\n",
       "title                             0\n",
       "url                               0\n",
       "is_paid                           0\n",
       "num_subscribers                   0\n",
       "avg_rating                        0\n",
       "avg_rating_recent                 0\n",
       "rating                            0\n",
       "num_reviews                       0\n",
       "is_wishlisted                     0\n",
       "num_published_lectures            0\n",
       "num_published_practice_tests      0\n",
       "created                           0\n",
       "published_time                    0\n",
       "discount_price__amount          510\n",
       "discount_price__currency        510\n",
       "discount_price__price_string    510\n",
       "price_detail__amount              0\n",
       "price_detail__currency            0\n",
       "price_detail__price_string        0\n",
       "dtype: int64"
      ]
     },
     "execution_count": 4,
     "metadata": {},
     "output_type": "execute_result"
    }
   ],
   "source": [
    "df.isnull().sum()"
   ]
  },
  {
   "cell_type": "markdown",
   "id": "4c1f6e55",
   "metadata": {},
   "source": [
    "we have Missing values on discount_price__amount,discount_price__currency,discount_price__price_string and \n",
    "we can see that there are some unnecessary features that we don't need to proceed for this project So we will drop these irrelevant features   "
   ]
  },
  {
   "cell_type": "code",
   "execution_count": 5,
   "id": "e05632aa",
   "metadata": {},
   "outputs": [],
   "source": [
    "df.drop(['url','avg_rating','avg_rating_recent','published_time','discount_price__price_string','price_detail__price_string'],\n",
    "        axis=1, inplace=True )"
   ]
  },
  {
   "cell_type": "code",
   "execution_count": 6,
   "id": "e89da896",
   "metadata": {},
   "outputs": [],
   "source": [
    "df.drop(['price_detail__currency'],axis=1, inplace=True )"
   ]
  },
  {
   "cell_type": "code",
   "execution_count": 7,
   "id": "43b11ed5",
   "metadata": {},
   "outputs": [],
   "source": [
    "df.drop(['discount_price__currency'],axis=1, inplace=True)"
   ]
  },
  {
   "cell_type": "code",
   "execution_count": 8,
   "id": "a06a46a7",
   "metadata": {},
   "outputs": [
    {
     "data": {
      "text/plain": [
       "id                                0\n",
       "title                             0\n",
       "is_paid                           0\n",
       "num_subscribers                   0\n",
       "rating                            0\n",
       "num_reviews                       0\n",
       "is_wishlisted                     0\n",
       "num_published_lectures            0\n",
       "num_published_practice_tests      0\n",
       "created                           0\n",
       "discount_price__amount          510\n",
       "price_detail__amount              0\n",
       "dtype: int64"
      ]
     },
     "execution_count": 8,
     "metadata": {},
     "output_type": "execute_result"
    }
   ],
   "source": [
    "df.isnull().sum()"
   ]
  },
  {
   "cell_type": "markdown",
   "id": "3475e007",
   "metadata": {},
   "source": [
    "we will drop the Null Values because it is less than 5%"
   ]
  },
  {
   "cell_type": "code",
   "execution_count": 9,
   "id": "9ef95d17",
   "metadata": {},
   "outputs": [],
   "source": [
    "# Droping the null values:\n",
    "\n",
    "df.dropna(inplace=True)"
   ]
  },
  {
   "cell_type": "code",
   "execution_count": 10,
   "id": "22240211",
   "metadata": {},
   "outputs": [
    {
     "data": {
      "text/plain": [
       "id                              0\n",
       "title                           0\n",
       "is_paid                         0\n",
       "num_subscribers                 0\n",
       "rating                          0\n",
       "num_reviews                     0\n",
       "is_wishlisted                   0\n",
       "num_published_lectures          0\n",
       "num_published_practice_tests    0\n",
       "created                         0\n",
       "discount_price__amount          0\n",
       "price_detail__amount            0\n",
       "dtype: int64"
      ]
     },
     "execution_count": 10,
     "metadata": {},
     "output_type": "execute_result"
    }
   ],
   "source": [
    "df.isnull().sum()"
   ]
  },
  {
   "cell_type": "code",
   "execution_count": 11,
   "id": "b9746bd9",
   "metadata": {},
   "outputs": [
    {
     "data": {
      "text/plain": [
       "(8937, 12)"
      ]
     },
     "execution_count": 11,
     "metadata": {},
     "output_type": "execute_result"
    }
   ],
   "source": [
    "df.shape"
   ]
  },
  {
   "cell_type": "markdown",
   "id": "3e646b14",
   "metadata": {},
   "source": [
    "After the Data Cleaning and Feature Selection Now, we have total 8937 records with 12 columns "
   ]
  },
  {
   "cell_type": "code",
   "execution_count": 12,
   "id": "fc7b9429",
   "metadata": {},
   "outputs": [
    {
     "name": "stdout",
     "output_type": "stream",
     "text": [
      "<class 'pandas.core.frame.DataFrame'>\n",
      "Int64Index: 8937 entries, 0 to 9446\n",
      "Data columns (total 12 columns):\n",
      " #   Column                        Non-Null Count  Dtype  \n",
      "---  ------                        --------------  -----  \n",
      " 0   id                            8937 non-null   int64  \n",
      " 1   title                         8937 non-null   object \n",
      " 2   is_paid                       8937 non-null   bool   \n",
      " 3   num_subscribers               8937 non-null   int64  \n",
      " 4   rating                        8937 non-null   float64\n",
      " 5   num_reviews                   8937 non-null   int64  \n",
      " 6   is_wishlisted                 8937 non-null   bool   \n",
      " 7   num_published_lectures        8937 non-null   int64  \n",
      " 8   num_published_practice_tests  8937 non-null   int64  \n",
      " 9   created                       8937 non-null   object \n",
      " 10  discount_price__amount        8937 non-null   float64\n",
      " 11  price_detail__amount          8937 non-null   int64  \n",
      "dtypes: bool(2), float64(2), int64(6), object(2)\n",
      "memory usage: 785.5+ KB\n"
     ]
    }
   ],
   "source": [
    "df.info()"
   ]
  },
  {
   "cell_type": "markdown",
   "id": "e39b1d30",
   "metadata": {},
   "source": [
    "we have 2 categorical variable, 6 numerical, 2 boolean and 2 float types of data "
   ]
  },
  {
   "cell_type": "code",
   "execution_count": 13,
   "id": "36147e0b",
   "metadata": {},
   "outputs": [
    {
     "data": {
      "text/html": [
       "<div>\n",
       "<style scoped>\n",
       "    .dataframe tbody tr th:only-of-type {\n",
       "        vertical-align: middle;\n",
       "    }\n",
       "\n",
       "    .dataframe tbody tr th {\n",
       "        vertical-align: top;\n",
       "    }\n",
       "\n",
       "    .dataframe thead th {\n",
       "        text-align: right;\n",
       "    }\n",
       "</style>\n",
       "<table border=\"1\" class=\"dataframe\">\n",
       "  <thead>\n",
       "    <tr style=\"text-align: right;\">\n",
       "      <th></th>\n",
       "      <th>id</th>\n",
       "      <th>num_subscribers</th>\n",
       "      <th>rating</th>\n",
       "      <th>num_reviews</th>\n",
       "      <th>num_published_lectures</th>\n",
       "      <th>num_published_practice_tests</th>\n",
       "      <th>discount_price__amount</th>\n",
       "      <th>price_detail__amount</th>\n",
       "    </tr>\n",
       "  </thead>\n",
       "  <tbody>\n",
       "    <tr>\n",
       "      <th>count</th>\n",
       "      <td>8.937000e+03</td>\n",
       "      <td>8937.000000</td>\n",
       "      <td>8937.000000</td>\n",
       "      <td>8937.000000</td>\n",
       "      <td>8937.000000</td>\n",
       "      <td>8937.000000</td>\n",
       "      <td>8937.000000</td>\n",
       "      <td>8937.000000</td>\n",
       "    </tr>\n",
       "    <tr>\n",
       "      <th>mean</th>\n",
       "      <td>1.467743e+06</td>\n",
       "      <td>3500.211592</td>\n",
       "      <td>4.117315</td>\n",
       "      <td>302.236768</td>\n",
       "      <td>34.320354</td>\n",
       "      <td>0.103502</td>\n",
       "      <td>488.984111</td>\n",
       "      <td>4789.902652</td>\n",
       "    </tr>\n",
       "    <tr>\n",
       "      <th>std</th>\n",
       "      <td>8.898654e+05</td>\n",
       "      <td>10690.869699</td>\n",
       "      <td>0.479444</td>\n",
       "      <td>1864.753096</td>\n",
       "      <td>45.659842</td>\n",
       "      <td>0.586828</td>\n",
       "      <td>247.833161</td>\n",
       "      <td>3037.366058</td>\n",
       "    </tr>\n",
       "    <tr>\n",
       "      <th>min</th>\n",
       "      <td>2.762000e+03</td>\n",
       "      <td>3.000000</td>\n",
       "      <td>1.000000</td>\n",
       "      <td>3.000000</td>\n",
       "      <td>0.000000</td>\n",
       "      <td>0.000000</td>\n",
       "      <td>455.000000</td>\n",
       "      <td>1280.000000</td>\n",
       "    </tr>\n",
       "    <tr>\n",
       "      <th>25%</th>\n",
       "      <td>6.922680e+05</td>\n",
       "      <td>151.000000</td>\n",
       "      <td>3.872860</td>\n",
       "      <td>12.000000</td>\n",
       "      <td>13.000000</td>\n",
       "      <td>0.000000</td>\n",
       "      <td>455.000000</td>\n",
       "      <td>1600.000000</td>\n",
       "    </tr>\n",
       "    <tr>\n",
       "      <th>50%</th>\n",
       "      <td>1.394594e+06</td>\n",
       "      <td>969.000000</td>\n",
       "      <td>4.199900</td>\n",
       "      <td>33.000000</td>\n",
       "      <td>23.000000</td>\n",
       "      <td>0.000000</td>\n",
       "      <td>455.000000</td>\n",
       "      <td>3840.000000</td>\n",
       "    </tr>\n",
       "    <tr>\n",
       "      <th>75%</th>\n",
       "      <td>2.163746e+06</td>\n",
       "      <td>3004.000000</td>\n",
       "      <td>4.441310</td>\n",
       "      <td>111.000000</td>\n",
       "      <td>39.000000</td>\n",
       "      <td>0.000000</td>\n",
       "      <td>455.000000</td>\n",
       "      <td>8640.000000</td>\n",
       "    </tr>\n",
       "    <tr>\n",
       "      <th>max</th>\n",
       "      <td>3.469452e+06</td>\n",
       "      <td>374836.000000</td>\n",
       "      <td>5.000000</td>\n",
       "      <td>78006.000000</td>\n",
       "      <td>699.000000</td>\n",
       "      <td>6.000000</td>\n",
       "      <td>3200.000000</td>\n",
       "      <td>11520.000000</td>\n",
       "    </tr>\n",
       "  </tbody>\n",
       "</table>\n",
       "</div>"
      ],
      "text/plain": [
       "                 id  num_subscribers       rating   num_reviews  \\\n",
       "count  8.937000e+03      8937.000000  8937.000000   8937.000000   \n",
       "mean   1.467743e+06      3500.211592     4.117315    302.236768   \n",
       "std    8.898654e+05     10690.869699     0.479444   1864.753096   \n",
       "min    2.762000e+03         3.000000     1.000000      3.000000   \n",
       "25%    6.922680e+05       151.000000     3.872860     12.000000   \n",
       "50%    1.394594e+06       969.000000     4.199900     33.000000   \n",
       "75%    2.163746e+06      3004.000000     4.441310    111.000000   \n",
       "max    3.469452e+06    374836.000000     5.000000  78006.000000   \n",
       "\n",
       "       num_published_lectures  num_published_practice_tests  \\\n",
       "count             8937.000000                   8937.000000   \n",
       "mean                34.320354                      0.103502   \n",
       "std                 45.659842                      0.586828   \n",
       "min                  0.000000                      0.000000   \n",
       "25%                 13.000000                      0.000000   \n",
       "50%                 23.000000                      0.000000   \n",
       "75%                 39.000000                      0.000000   \n",
       "max                699.000000                      6.000000   \n",
       "\n",
       "       discount_price__amount  price_detail__amount  \n",
       "count             8937.000000           8937.000000  \n",
       "mean               488.984111           4789.902652  \n",
       "std                247.833161           3037.366058  \n",
       "min                455.000000           1280.000000  \n",
       "25%                455.000000           1600.000000  \n",
       "50%                455.000000           3840.000000  \n",
       "75%                455.000000           8640.000000  \n",
       "max               3200.000000          11520.000000  "
      ]
     },
     "execution_count": 13,
     "metadata": {},
     "output_type": "execute_result"
    }
   ],
   "source": [
    "# descriptive statistic\n",
    "\n",
    "df.describe()"
   ]
  },
  {
   "cell_type": "markdown",
   "id": "981805ba",
   "metadata": {},
   "source": [
    "we can see that the maximum price of course is 11,520 and minimum price is 1,280 \n",
    "on the other hand, maximum discounted price of course is 3,200 and minimum discounted price is 455,\n",
    "average price of course is 4,789 and average discounted price is 488,maximum number of subscriber is 374836, maximum number of reviews 78006."
   ]
  },
  {
   "cell_type": "markdown",
   "id": "fa6d61e1",
   "metadata": {},
   "source": [
    "# **Exploratory Data Analysis**\n"
   ]
  },
  {
   "cell_type": "code",
   "execution_count": 14,
   "id": "289dd9c9",
   "metadata": {},
   "outputs": [
    {
     "data": {
      "text/plain": [
       "5.00000    85\n",
       "4.32129     3\n",
       "4.47652     3\n",
       "3.73263     3\n",
       "4.18855     3\n",
       "           ..\n",
       "3.51249     1\n",
       "3.76738     1\n",
       "4.33573     1\n",
       "3.58400     1\n",
       "3.52632     1\n",
       "Name: rating, Length: 8561, dtype: int64"
      ]
     },
     "execution_count": 14,
     "metadata": {},
     "output_type": "execute_result"
    }
   ],
   "source": [
    "df['rating'].value_counts()"
   ]
  },
  {
   "cell_type": "markdown",
   "id": "5ae315ab",
   "metadata": {},
   "source": [
    "we can see that 85 person has given 5 ratings and there is no rating less than 3 that means they provide a good education system"
   ]
  },
  {
   "cell_type": "code",
   "execution_count": 40,
   "id": "d020f09f",
   "metadata": {},
   "outputs": [
    {
     "data": {
      "text/html": [
       "<div>\n",
       "<style scoped>\n",
       "    .dataframe tbody tr th:only-of-type {\n",
       "        vertical-align: middle;\n",
       "    }\n",
       "\n",
       "    .dataframe tbody tr th {\n",
       "        vertical-align: top;\n",
       "    }\n",
       "\n",
       "    .dataframe thead th {\n",
       "        text-align: right;\n",
       "    }\n",
       "</style>\n",
       "<table border=\"1\" class=\"dataframe\">\n",
       "  <thead>\n",
       "    <tr style=\"text-align: right;\">\n",
       "      <th></th>\n",
       "      <th>title</th>\n",
       "      <th>num_reviews</th>\n",
       "    </tr>\n",
       "  </thead>\n",
       "  <tbody>\n",
       "    <tr>\n",
       "      <th>0</th>\n",
       "      <td>The Complete SQL Bootcamp 2020: Go from Zero t...</td>\n",
       "      <td>78006</td>\n",
       "    </tr>\n",
       "    <tr>\n",
       "      <th>1</th>\n",
       "      <td>Tableau 2020 A-Z: Hands-On Tableau Training fo...</td>\n",
       "      <td>54581</td>\n",
       "    </tr>\n",
       "    <tr>\n",
       "      <th>2</th>\n",
       "      <td>PMP Exam Prep Seminar -  PMBOK Guide 6</td>\n",
       "      <td>52653</td>\n",
       "    </tr>\n",
       "    <tr>\n",
       "      <th>3</th>\n",
       "      <td>The Complete Financial Analyst Course 2020</td>\n",
       "      <td>46447</td>\n",
       "    </tr>\n",
       "    <tr>\n",
       "      <th>4</th>\n",
       "      <td>An Entire MBA in 1 Course:Award Winning Busine...</td>\n",
       "      <td>41630</td>\n",
       "    </tr>\n",
       "    <tr>\n",
       "      <th>5</th>\n",
       "      <td>Microsoft Power BI - A Complete Introduction [...</td>\n",
       "      <td>38093</td>\n",
       "    </tr>\n",
       "    <tr>\n",
       "      <th>6</th>\n",
       "      <td>Agile Crash Course: Agile Project Management; ...</td>\n",
       "      <td>30470</td>\n",
       "    </tr>\n",
       "    <tr>\n",
       "      <th>7</th>\n",
       "      <td>Beginner to Pro in Excel: Financial Modeling a...</td>\n",
       "      <td>28665</td>\n",
       "    </tr>\n",
       "    <tr>\n",
       "      <th>8</th>\n",
       "      <td>Become a Product Manager | Learn the Skills &amp; ...</td>\n",
       "      <td>27408</td>\n",
       "    </tr>\n",
       "    <tr>\n",
       "      <th>9</th>\n",
       "      <td>The Business Intelligence Analyst Course 2020</td>\n",
       "      <td>23906</td>\n",
       "    </tr>\n",
       "  </tbody>\n",
       "</table>\n",
       "</div>"
      ],
      "text/plain": [
       "                                               title  num_reviews\n",
       "0  The Complete SQL Bootcamp 2020: Go from Zero t...        78006\n",
       "1  Tableau 2020 A-Z: Hands-On Tableau Training fo...        54581\n",
       "2             PMP Exam Prep Seminar -  PMBOK Guide 6        52653\n",
       "3         The Complete Financial Analyst Course 2020        46447\n",
       "4  An Entire MBA in 1 Course:Award Winning Busine...        41630\n",
       "5  Microsoft Power BI - A Complete Introduction [...        38093\n",
       "6  Agile Crash Course: Agile Project Management; ...        30470\n",
       "7  Beginner to Pro in Excel: Financial Modeling a...        28665\n",
       "8  Become a Product Manager | Learn the Skills & ...        27408\n",
       "9      The Business Intelligence Analyst Course 2020        23906"
      ]
     },
     "execution_count": 40,
     "metadata": {},
     "output_type": "execute_result"
    }
   ],
   "source": [
    "top_reviews = df[['title','num_reviews']].sort_values(by='num_reviews',ascending=False).head(10)\n",
    "top_reviews"
   ]
  },
  {
   "cell_type": "markdown",
   "id": "e69d99c7",
   "metadata": {},
   "source": [
    "These are the top 10 most reviewed courses "
   ]
  },
  {
   "cell_type": "code",
   "execution_count": 44,
   "id": "8ecdc541",
   "metadata": {},
   "outputs": [
    {
     "data": {
      "text/html": [
       "<div>\n",
       "<style scoped>\n",
       "    .dataframe tbody tr th:only-of-type {\n",
       "        vertical-align: middle;\n",
       "    }\n",
       "\n",
       "    .dataframe tbody tr th {\n",
       "        vertical-align: top;\n",
       "    }\n",
       "\n",
       "    .dataframe thead th {\n",
       "        text-align: right;\n",
       "    }\n",
       "</style>\n",
       "<table border=\"1\" class=\"dataframe\">\n",
       "  <thead>\n",
       "    <tr style=\"text-align: right;\">\n",
       "      <th></th>\n",
       "      <th>title</th>\n",
       "      <th>rating</th>\n",
       "    </tr>\n",
       "  </thead>\n",
       "  <tbody>\n",
       "    <tr>\n",
       "      <th>9446</th>\n",
       "      <td>How to enter the US market?</td>\n",
       "      <td>5.0</td>\n",
       "    </tr>\n",
       "    <tr>\n",
       "      <th>8878</th>\n",
       "      <td>3 Online Business / Side Hustle Ideas For Spor...</td>\n",
       "      <td>5.0</td>\n",
       "    </tr>\n",
       "    <tr>\n",
       "      <th>8675</th>\n",
       "      <td>Scaled Professional Scrum (Nexus) Exam Prep Wo...</td>\n",
       "      <td>5.0</td>\n",
       "    </tr>\n",
       "    <tr>\n",
       "      <th>8684</th>\n",
       "      <td>GROWTH HACKING Fiverr -- full time freelance i...</td>\n",
       "      <td>5.0</td>\n",
       "    </tr>\n",
       "    <tr>\n",
       "      <th>8743</th>\n",
       "      <td>Periscope 101 Profits: Business Strategies Pro...</td>\n",
       "      <td>5.0</td>\n",
       "    </tr>\n",
       "    <tr>\n",
       "      <th>8782</th>\n",
       "      <td>Selling Diamonds: Become Brilliant</td>\n",
       "      <td>5.0</td>\n",
       "    </tr>\n",
       "    <tr>\n",
       "      <th>8787</th>\n",
       "      <td>Freelancing for Artists: How to Build Your Bus...</td>\n",
       "      <td>5.0</td>\n",
       "    </tr>\n",
       "    <tr>\n",
       "      <th>8811</th>\n",
       "      <td>HOW TO MAKE GREAT VERBAL SKILLS</td>\n",
       "      <td>5.0</td>\n",
       "    </tr>\n",
       "    <tr>\n",
       "      <th>8812</th>\n",
       "      <td>Manufacturing Mastery with Production Planning...</td>\n",
       "      <td>5.0</td>\n",
       "    </tr>\n",
       "    <tr>\n",
       "      <th>8822</th>\n",
       "      <td>Sales - A non technical way of selling</td>\n",
       "      <td>5.0</td>\n",
       "    </tr>\n",
       "  </tbody>\n",
       "</table>\n",
       "</div>"
      ],
      "text/plain": [
       "                                                  title  rating\n",
       "9446                        How to enter the US market?     5.0\n",
       "8878  3 Online Business / Side Hustle Ideas For Spor...     5.0\n",
       "8675  Scaled Professional Scrum (Nexus) Exam Prep Wo...     5.0\n",
       "8684  GROWTH HACKING Fiverr -- full time freelance i...     5.0\n",
       "8743  Periscope 101 Profits: Business Strategies Pro...     5.0\n",
       "8782                 Selling Diamonds: Become Brilliant     5.0\n",
       "8787  Freelancing for Artists: How to Build Your Bus...     5.0\n",
       "8811                    HOW TO MAKE GREAT VERBAL SKILLS     5.0\n",
       "8812  Manufacturing Mastery with Production Planning...     5.0\n",
       "8822             Sales - A non technical way of selling     5.0"
      ]
     },
     "execution_count": 44,
     "metadata": {},
     "output_type": "execute_result"
    }
   ],
   "source": [
    "top_rated_courses = df[['title','rating']].sort_values(by='rating',ascending=False).head(10)\n",
    "top_rated_courses"
   ]
  },
  {
   "cell_type": "markdown",
   "id": "6375befc",
   "metadata": {},
   "source": [
    "These are the top 10 most rated courses "
   ]
  },
  {
   "cell_type": "code",
   "execution_count": 74,
   "id": "8b608123",
   "metadata": {},
   "outputs": [],
   "source": [
    "#converting created column to datetime\n",
    "\n",
    "df['created']=pd.to_datetime(df['created'])\n",
    "df['course_creation_date']=df['created'].dt.date"
   ]
  },
  {
   "cell_type": "code",
   "execution_count": 76,
   "id": "16afc713",
   "metadata": {},
   "outputs": [
    {
     "data": {
      "text/plain": [
       "0       2016-02-14\n",
       "1       2016-08-22\n",
       "2       2017-09-26\n",
       "3       2015-10-23\n",
       "4       2015-10-12\n",
       "           ...    \n",
       "9442    2018-09-27\n",
       "9443    2018-11-29\n",
       "9444    2018-10-13\n",
       "9445    2020-01-20\n",
       "9446    2020-02-07\n",
       "Name: course_creation_date, Length: 8937, dtype: object"
      ]
     },
     "execution_count": 76,
     "metadata": {},
     "output_type": "execute_result"
    }
   ],
   "source": [
    "df['course_creation_date'] "
   ]
  },
  {
   "cell_type": "code",
   "execution_count": 78,
   "id": "8fa50068",
   "metadata": {},
   "outputs": [],
   "source": [
    "df['year']=pd.DatetimeIndex(df.course_creation_date).year"
   ]
  },
  {
   "cell_type": "code",
   "execution_count": 82,
   "id": "382f417e",
   "metadata": {},
   "outputs": [],
   "source": [
    "df.drop(['created'],axis=1,inplace=True)"
   ]
  },
  {
   "cell_type": "code",
   "execution_count": 83,
   "id": "0368b30f",
   "metadata": {},
   "outputs": [
    {
     "data": {
      "text/html": [
       "<div>\n",
       "<style scoped>\n",
       "    .dataframe tbody tr th:only-of-type {\n",
       "        vertical-align: middle;\n",
       "    }\n",
       "\n",
       "    .dataframe tbody tr th {\n",
       "        vertical-align: top;\n",
       "    }\n",
       "\n",
       "    .dataframe thead th {\n",
       "        text-align: right;\n",
       "    }\n",
       "</style>\n",
       "<table border=\"1\" class=\"dataframe\">\n",
       "  <thead>\n",
       "    <tr style=\"text-align: right;\">\n",
       "      <th></th>\n",
       "      <th>id</th>\n",
       "      <th>title</th>\n",
       "      <th>is_paid</th>\n",
       "      <th>num_subscribers</th>\n",
       "      <th>rating</th>\n",
       "      <th>num_reviews</th>\n",
       "      <th>is_wishlisted</th>\n",
       "      <th>num_published_lectures</th>\n",
       "      <th>num_published_practice_tests</th>\n",
       "      <th>discount_price__amount</th>\n",
       "      <th>price_detail__amount</th>\n",
       "      <th>course_creation_date</th>\n",
       "      <th>year</th>\n",
       "    </tr>\n",
       "  </thead>\n",
       "  <tbody>\n",
       "    <tr>\n",
       "      <th>0</th>\n",
       "      <td>762616</td>\n",
       "      <td>The Complete SQL Bootcamp 2020: Go from Zero t...</td>\n",
       "      <td>True</td>\n",
       "      <td>295509</td>\n",
       "      <td>4.67874</td>\n",
       "      <td>78006</td>\n",
       "      <td>False</td>\n",
       "      <td>84</td>\n",
       "      <td>0</td>\n",
       "      <td>455.0</td>\n",
       "      <td>8640</td>\n",
       "      <td>2016-02-14</td>\n",
       "      <td>2016</td>\n",
       "    </tr>\n",
       "  </tbody>\n",
       "</table>\n",
       "</div>"
      ],
      "text/plain": [
       "       id                                              title  is_paid  \\\n",
       "0  762616  The Complete SQL Bootcamp 2020: Go from Zero t...     True   \n",
       "\n",
       "   num_subscribers   rating  num_reviews  is_wishlisted  \\\n",
       "0           295509  4.67874        78006          False   \n",
       "\n",
       "   num_published_lectures  num_published_practice_tests  \\\n",
       "0                      84                             0   \n",
       "\n",
       "   discount_price__amount  price_detail__amount course_creation_date  year  \n",
       "0                   455.0                  8640           2016-02-14  2016  "
      ]
     },
     "execution_count": 83,
     "metadata": {},
     "output_type": "execute_result"
    }
   ],
   "source": [
    "df.head(1)"
   ]
  },
  {
   "cell_type": "code",
   "execution_count": 88,
   "id": "d2c636f7",
   "metadata": {},
   "outputs": [
    {
     "data": {
      "text/html": [
       "<div>\n",
       "<style scoped>\n",
       "    .dataframe tbody tr th:only-of-type {\n",
       "        vertical-align: middle;\n",
       "    }\n",
       "\n",
       "    .dataframe tbody tr th {\n",
       "        vertical-align: top;\n",
       "    }\n",
       "\n",
       "    .dataframe thead th {\n",
       "        text-align: right;\n",
       "    }\n",
       "</style>\n",
       "<table border=\"1\" class=\"dataframe\">\n",
       "  <thead>\n",
       "    <tr style=\"text-align: right;\">\n",
       "      <th></th>\n",
       "      <th>title</th>\n",
       "      <th>rating</th>\n",
       "      <th>year</th>\n",
       "    </tr>\n",
       "  </thead>\n",
       "  <tbody>\n",
       "    <tr>\n",
       "      <th>9446</th>\n",
       "      <td>How to enter the US market?</td>\n",
       "      <td>5.00000</td>\n",
       "      <td>2020</td>\n",
       "    </tr>\n",
       "    <tr>\n",
       "      <th>8878</th>\n",
       "      <td>3 Online Business / Side Hustle Ideas For Spor...</td>\n",
       "      <td>5.00000</td>\n",
       "      <td>2020</td>\n",
       "    </tr>\n",
       "    <tr>\n",
       "      <th>8675</th>\n",
       "      <td>Scaled Professional Scrum (Nexus) Exam Prep Wo...</td>\n",
       "      <td>5.00000</td>\n",
       "      <td>2020</td>\n",
       "    </tr>\n",
       "    <tr>\n",
       "      <th>8684</th>\n",
       "      <td>GROWTH HACKING Fiverr -- full time freelance i...</td>\n",
       "      <td>5.00000</td>\n",
       "      <td>2019</td>\n",
       "    </tr>\n",
       "    <tr>\n",
       "      <th>8743</th>\n",
       "      <td>Periscope 101 Profits: Business Strategies Pro...</td>\n",
       "      <td>5.00000</td>\n",
       "      <td>2015</td>\n",
       "    </tr>\n",
       "    <tr>\n",
       "      <th>...</th>\n",
       "      <td>...</td>\n",
       "      <td>...</td>\n",
       "      <td>...</td>\n",
       "    </tr>\n",
       "    <tr>\n",
       "      <th>8970</th>\n",
       "      <td>Business Intelligence IT &amp; Analytics</td>\n",
       "      <td>1.51139</td>\n",
       "      <td>2018</td>\n",
       "    </tr>\n",
       "    <tr>\n",
       "      <th>9098</th>\n",
       "      <td>Master  corporate finance with practical exerc...</td>\n",
       "      <td>1.48962</td>\n",
       "      <td>2018</td>\n",
       "    </tr>\n",
       "    <tr>\n",
       "      <th>8314</th>\n",
       "      <td>Learn Data Analysis using Microsoft Excel Basi...</td>\n",
       "      <td>1.36363</td>\n",
       "      <td>2019</td>\n",
       "    </tr>\n",
       "    <tr>\n",
       "      <th>9192</th>\n",
       "      <td>Repeat Business Skills For Techies</td>\n",
       "      <td>1.23494</td>\n",
       "      <td>2014</td>\n",
       "    </tr>\n",
       "    <tr>\n",
       "      <th>9374</th>\n",
       "      <td>Excel based Solar Plant Financial Modelling Co...</td>\n",
       "      <td>1.00000</td>\n",
       "      <td>2019</td>\n",
       "    </tr>\n",
       "  </tbody>\n",
       "</table>\n",
       "<p>8937 rows × 3 columns</p>\n",
       "</div>"
      ],
      "text/plain": [
       "                                                  title   rating  year\n",
       "9446                        How to enter the US market?  5.00000  2020\n",
       "8878  3 Online Business / Side Hustle Ideas For Spor...  5.00000  2020\n",
       "8675  Scaled Professional Scrum (Nexus) Exam Prep Wo...  5.00000  2020\n",
       "8684  GROWTH HACKING Fiverr -- full time freelance i...  5.00000  2019\n",
       "8743  Periscope 101 Profits: Business Strategies Pro...  5.00000  2015\n",
       "...                                                 ...      ...   ...\n",
       "8970               Business Intelligence IT & Analytics  1.51139  2018\n",
       "9098  Master  corporate finance with practical exerc...  1.48962  2018\n",
       "8314  Learn Data Analysis using Microsoft Excel Basi...  1.36363  2019\n",
       "9192                 Repeat Business Skills For Techies  1.23494  2014\n",
       "9374  Excel based Solar Plant Financial Modelling Co...  1.00000  2019\n",
       "\n",
       "[8937 rows x 3 columns]"
      ]
     },
     "execution_count": 88,
     "metadata": {},
     "output_type": "execute_result"
    }
   ],
   "source": [
    "yearly_courses_performance = df[['title','rating','year']].sort_values(by='rating',ascending=False)\n",
    "yearly_courses_performance"
   ]
  },
  {
   "cell_type": "markdown",
   "id": "7d93c402",
   "metadata": {},
   "source": [
    "yearly course performance based on rating"
   ]
  },
  {
   "cell_type": "code",
   "execution_count": 91,
   "id": "7cedc9f7",
   "metadata": {},
   "outputs": [
    {
     "data": {
      "text/html": [
       "<div>\n",
       "<style scoped>\n",
       "    .dataframe tbody tr th:only-of-type {\n",
       "        vertical-align: middle;\n",
       "    }\n",
       "\n",
       "    .dataframe tbody tr th {\n",
       "        vertical-align: top;\n",
       "    }\n",
       "\n",
       "    .dataframe thead th {\n",
       "        text-align: right;\n",
       "    }\n",
       "</style>\n",
       "<table border=\"1\" class=\"dataframe\">\n",
       "  <thead>\n",
       "    <tr style=\"text-align: right;\">\n",
       "      <th></th>\n",
       "      <th>title</th>\n",
       "      <th>num_subscribers</th>\n",
       "    </tr>\n",
       "  </thead>\n",
       "  <tbody>\n",
       "    <tr>\n",
       "      <th>4</th>\n",
       "      <td>An Entire MBA in 1 Course:Award Winning Busine...</td>\n",
       "      <td>374836</td>\n",
       "    </tr>\n",
       "    <tr>\n",
       "      <th>0</th>\n",
       "      <td>The Complete SQL Bootcamp 2020: Go from Zero t...</td>\n",
       "      <td>295509</td>\n",
       "    </tr>\n",
       "    <tr>\n",
       "      <th>3</th>\n",
       "      <td>The Complete Financial Analyst Course 2020</td>\n",
       "      <td>245860</td>\n",
       "    </tr>\n",
       "    <tr>\n",
       "      <th>19</th>\n",
       "      <td>Deep Learning Prerequisites: The Numpy Stack i...</td>\n",
       "      <td>239309</td>\n",
       "    </tr>\n",
       "    <tr>\n",
       "      <th>1</th>\n",
       "      <td>Tableau 2020 A-Z: Hands-On Tableau Training fo...</td>\n",
       "      <td>209070</td>\n",
       "    </tr>\n",
       "    <tr>\n",
       "      <th>15</th>\n",
       "      <td>The Complete Financial Analyst Training &amp; Inve...</td>\n",
       "      <td>182002</td>\n",
       "    </tr>\n",
       "    <tr>\n",
       "      <th>35</th>\n",
       "      <td>The Complete Presentation and Public Speaking/...</td>\n",
       "      <td>158654</td>\n",
       "    </tr>\n",
       "    <tr>\n",
       "      <th>2</th>\n",
       "      <td>PMP Exam Prep Seminar -  PMBOK Guide 6</td>\n",
       "      <td>155282</td>\n",
       "    </tr>\n",
       "    <tr>\n",
       "      <th>22</th>\n",
       "      <td>Introduction to Finance, Accounting, Modeling ...</td>\n",
       "      <td>140676</td>\n",
       "    </tr>\n",
       "    <tr>\n",
       "      <th>7</th>\n",
       "      <td>Beginner to Pro in Excel: Financial Modeling a...</td>\n",
       "      <td>127680</td>\n",
       "    </tr>\n",
       "  </tbody>\n",
       "</table>\n",
       "</div>"
      ],
      "text/plain": [
       "                                                title  num_subscribers\n",
       "4   An Entire MBA in 1 Course:Award Winning Busine...           374836\n",
       "0   The Complete SQL Bootcamp 2020: Go from Zero t...           295509\n",
       "3          The Complete Financial Analyst Course 2020           245860\n",
       "19  Deep Learning Prerequisites: The Numpy Stack i...           239309\n",
       "1   Tableau 2020 A-Z: Hands-On Tableau Training fo...           209070\n",
       "15  The Complete Financial Analyst Training & Inve...           182002\n",
       "35  The Complete Presentation and Public Speaking/...           158654\n",
       "2              PMP Exam Prep Seminar -  PMBOK Guide 6           155282\n",
       "22  Introduction to Finance, Accounting, Modeling ...           140676\n",
       "7   Beginner to Pro in Excel: Financial Modeling a...           127680"
      ]
     },
     "execution_count": 91,
     "metadata": {},
     "output_type": "execute_result"
    }
   ],
   "source": [
    "top_subs_course=df[['title','num_subscribers']].sort_values(by='num_subscribers',ascending=False).head(10)\n",
    "top_subs_course"
   ]
  },
  {
   "cell_type": "markdown",
   "id": "09ca301c",
   "metadata": {},
   "source": [
    "top 10 courses based on number of subscriber"
   ]
  },
  {
   "cell_type": "code",
   "execution_count": 102,
   "id": "27eebd43",
   "metadata": {},
   "outputs": [
    {
     "data": {
      "image/png": "[encoded data removed]",
      "text/plain": [
       "<Figure size 720x360 with 1 Axes>"
      ]
     },
     "metadata": {},
     "output_type": "display_data"
    }
   ],
   "source": [
    "sb.set()\n",
    "plt.figure(figsize=(10,5))\n",
    "sb.countplot(x=df['year'],order=df.year.value_counts().sort_values(ascending=False).index,color='salmon');\n",
    "plt.title(\"Added Courses per year\",fontsize=15);"
   ]
  },
  {
   "cell_type": "markdown",
   "id": "82355f82",
   "metadata": {},
   "source": [
    "we can see that most number of courses added in the year of 2018"
   ]
  },
  {
   "cell_type": "code",
   "execution_count": 110,
   "id": "8fbe28f7",
   "metadata": {},
   "outputs": [
    {
     "data": {
      "image/png": "[encoded data removed]",
      "text/plain": [
       "<Figure size 432x288 with 1 Axes>"
      ]
     },
     "metadata": {},
     "output_type": "display_data"
    }
   ],
   "source": [
    "sb.barplot(y=df['is_paid'],color='salmon');"
   ]
  },
  {
   "cell_type": "markdown",
   "id": "91f40e79",
   "metadata": {},
   "source": [
    "we can see that all are paid courses"
   ]
  },
  {
   "cell_type": "code",
   "execution_count": 113,
   "id": "affdbc87",
   "metadata": {},
   "outputs": [
    {
     "data": {
      "image/png": "[encoded data removed]",
      "text/plain": [
       "<Figure size 432x288 with 1 Axes>"
      ]
     },
     "metadata": {},
     "output_type": "display_data"
    }
   ],
   "source": [
    "sb.barplot(df['is_wishlisted'],color='salmon');"
   ]
  },
  {
   "cell_type": "markdown",
   "id": "84180224",
   "metadata": {},
   "source": [
    "Not a single course available in wishlist"
   ]
  },
  {
   "cell_type": "code",
   "execution_count": 117,
   "id": "3a840029",
   "metadata": {},
   "outputs": [
    {
     "data": {
      "image/png": "[encoded data removed]",
      "text/plain": [
       "<Figure size 720x360 with 1 Axes>"
      ]
     },
     "metadata": {},
     "output_type": "display_data"
    }
   ],
   "source": [
    "plt.figure(figsize=(10,5))\n",
    "sb.scatterplot(x=df['num_published_practice_tests'],y=df['price_detail__amount'],color='salmon');"
   ]
  },
  {
   "cell_type": "markdown",
   "id": "75345e06",
   "metadata": {},
   "source": [
    "practice test doesnt affect the price of course"
   ]
  },
  {
   "cell_type": "code",
   "execution_count": 35,
   "id": "8e4787e6",
   "metadata": {
    "scrolled": true
   },
   "outputs": [
    {
     "data": {
      "image/png": "[encoded data removed]",
      "text/plain": [
       "<Figure size 720x360 with 1 Axes>"
      ]
     },
     "metadata": {},
     "output_type": "display_data"
    }
   ],
   "source": [
    "plt.figure(figsize=(10,5))\n",
    "sb.scatterplot(x=df['num_published_lectures'],y=df['price_detail__amount'],color='salmon');"
   ]
  },
  {
   "cell_type": "markdown",
   "id": "9d15d14a",
   "metadata": {},
   "source": [
    "both have very minor correlation b/w published lectures and course price"
   ]
  },
  {
   "cell_type": "code",
   "execution_count": 38,
   "id": "12aafa9c",
   "metadata": {},
   "outputs": [],
   "source": [
    "#converting python file into excel\n",
    "\n",
    "df.to_excel(\"C:\\\\Users\\\\Laptop-PC\\\\Desktop\\\\Business Intelligence on Ed-Tech Data\\\\Ed_Tech1.xlsx\",index=False)"
   ]
  },
  {
   "cell_type": "code",
   "execution_count": null,
   "id": "2edde8a6",
   "metadata": {},
   "outputs": [],
   "source": [
    "# this is tableau dashboard file link you can check from here or from tableau file\n",
    "\n",
    "https://public.tableau.com/app/profile/pooja.pal8257/viz/Ed-Tech/Dashboard1?publish=yes"
   ]
  }
 ],
 "metadata": {
  "kernelspec": {
   "display_name": "Python 3 (ipykernel)",
   "language": "python",
   "name": "python3"
  },
  "language_info": {
   "codemirror_mode": {
    "name": "ipython",
    "version": 3
   },
   "file_extension": ".py",
   "mimetype": "text/x-python",
   "name": "python",
   "nbconvert_exporter": "python",
   "pygments_lexer": "ipython3",
   "version": "3.9.7"
  }
 },
 "nbformat": 4,
 "nbformat_minor": 5
}
